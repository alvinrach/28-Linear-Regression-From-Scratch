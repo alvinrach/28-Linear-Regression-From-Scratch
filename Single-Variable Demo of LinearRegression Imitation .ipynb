{
 "cells": [
  {
   "cell_type": "markdown",
   "id": "a97bcb2a",
   "metadata": {},
   "source": [
    "**Here is the demo for the imitation model of the scikit-learn's LinearRegression**"
   ]
  },
  {
   "cell_type": "markdown",
   "id": "32c00455",
   "metadata": {},
   "source": [
    "**This notebook presents you single-variable linear regression**"
   ]
  },
  {
   "cell_type": "code",
   "execution_count": 1,
   "id": "ad960221",
   "metadata": {},
   "outputs": [],
   "source": [
    "from LinearReg import LinReg"
   ]
  },
  {
   "cell_type": "code",
   "execution_count": 2,
   "id": "db313935",
   "metadata": {},
   "outputs": [
    {
     "name": "stdout",
     "output_type": "stream",
     "text": [
      "Help on class LinReg in module LinearReg:\n",
      "\n",
      "class LinReg(builtins.object)\n",
      " |  LinReg(lr=0.01, percent_diff=0.1)\n",
      " |  \n",
      " |  Linear regression class to predict coefficient and constant of single or multi-variable data.\n",
      " |  Parameters\n",
      " |  ----------\n",
      " |  lr : float, default=0.01\n",
      " |      Set the learning rate.\n",
      " |  percent_diff : float, default=0.1\n",
      " |      Set the difference percent before the epoch stops.\n",
      " |  Attributes\n",
      " |  ----------\n",
      " |  coefs : array of shape (n_features, ) or (n_targets, n_features)\n",
      " |      Return slope of the Linear Regression model object.\n",
      " |  const : float\n",
      " |      Retrun intercept of the Linear Regression model object.\n",
      " |  losses : array of shape (min(X, y),)\n",
      " |      Return loss progress each epoch of the model object.\n",
      " |  epochs : int\n",
      " |      Return how many epoch has applied when fit of the model object.\n",
      " |  Examples\n",
      " |  --------\n",
      " |  Input:\n",
      " |      import numpy as np\n",
      " |      from LinearReg import LinReg\n",
      " |      X = np.array([[1, 1], [1, 2], [2, 2], [2, 3]])\n",
      " |      # y = 1 * x_0 + 2 * x_1 + 3\n",
      " |      y = np.dot(X, np.array([1, 2])) + 3\n",
      " |      reg = LinReg().fit(X, y)\n",
      " |      reg.coefs\n",
      " |  Output:\n",
      " |  array([[1.],\n",
      " |         [2.]])\n",
      " |         \n",
      " |  Input:\n",
      " |      reg.const\n",
      " |  Output:\n",
      " |  2.999999999989651\n",
      " |  \n",
      " |  Input:\n",
      " |      reg.epochs\n",
      " |  Output:\n",
      " |  35560\n",
      " |  \n",
      " |  Input:\n",
      " |      reg.predict(np.array([[3, 5], [4, 6]]))\n",
      " |  Output:\n",
      " |  array([[16.],\n",
      " |         [19.]])\n",
      " |         \n",
      " |  Input:\n",
      " |      reg.mae(test=np.array([[20], [25]]), pred=reg.predict(np.array([[3, 5], [4, 6]])).flatten())\n",
      " |  Output:\n",
      " |  array([6.5, 3.5])\n",
      " |  \n",
      " |  Input:\n",
      " |      reg.rmse(test=np.array([[20], [25]]), pred=reg.predict(np.array([[3, 5], [4, 6]])).flatten(), unroot=True)\n",
      " |  Output:\n",
      " |  array([48.5, 18.5])\n",
      " |  \n",
      " |  Methods defined here:\n",
      " |  \n",
      " |  __init__(self, lr=0.01, percent_diff=0.1)\n",
      " |      Initialize self.  See help(type(self)) for accurate signature.\n",
      " |  \n",
      " |  fit(self, X, y)\n",
      " |      Fit linear model.\n",
      " |      Parameters\n",
      " |      ----------\n",
      " |      X : {array-like, sparse matrix} of shape (n_samples, n_features)\n",
      " |          Input variables values.\n",
      " |      y : array-like of shape (n_samples,) or (n_samples, n_targets)\n",
      " |          Target variable values.\n",
      " |      Returns\n",
      " |      -------\n",
      " |      self : returns an instance of self.\n",
      " |  \n",
      " |  mae(self, test, pred)\n",
      " |      Mean absolute error regression loss of the linear model.\n",
      " |      Parameters\n",
      " |      ----------\n",
      " |      test : array-like of shape (n_samples,) or (n_samples, n_outputs)\n",
      " |          Correct target values.\n",
      " |      pred : array-like of shape (n_samples,) or (n_samples, n_outputs)\n",
      " |          Estimated target values.\n",
      " |      Returns\n",
      " |      -------\n",
      " |      float or ndarray of floats\n",
      " |          A non-negative floating point. The best value is 0.0.\n",
      " |  \n",
      " |  predict(self, X)\n",
      " |      Predict using the linear model.\n",
      " |      Parameters\n",
      " |      ----------\n",
      " |      X : array-like or sparse matrix, shape (n_samples, n_features)\n",
      " |          Data to predict.\n",
      " |      Returns\n",
      " |      -------\n",
      " |      array, shape (n_samples,)\n",
      " |          Returns predicted values.\n",
      " |  \n",
      " |  rmse(self, test, pred, unroot=False)\n",
      " |      Root Mean squared error regression loss of the linear model.\n",
      " |      Parameters\n",
      " |      ----------\n",
      " |      test : array-like of shape (n_samples,) or (n_samples, n_outputs)\n",
      " |          Correct target values.\n",
      " |      pred : array-like of shape (n_samples,) or (n_samples, n_outputs)\n",
      " |          Estimated target values.\n",
      " |      unroot : bool, default=False\n",
      " |          If True, prediction will return Mean Squared Error.\n",
      " |      Returns\n",
      " |      -------\n",
      " |      float or ndarray of floats\n",
      " |          A non-negative floating point. The best value is 0.0.\n",
      " |  \n",
      " |  ----------------------------------------------------------------------\n",
      " |  Data descriptors defined here:\n",
      " |  \n",
      " |  __dict__\n",
      " |      dictionary for instance variables (if defined)\n",
      " |  \n",
      " |  __weakref__\n",
      " |      list of weak references to the object (if defined)\n",
      "\n"
     ]
    }
   ],
   "source": [
    "help(LinReg)"
   ]
  },
  {
   "cell_type": "code",
   "execution_count": 3,
   "id": "42053215",
   "metadata": {},
   "outputs": [],
   "source": [
    "import matplotlib.pyplot as plt\n",
    "import numpy as np\n",
    "from sklearn import datasets, linear_model\n",
    "from sklearn.metrics import mean_squared_error, mean_absolute_error"
   ]
  },
  {
   "cell_type": "code",
   "execution_count": 4,
   "id": "e8b17418",
   "metadata": {},
   "outputs": [],
   "source": [
    "# Load the diabetes dataset\n",
    "diabetes_X, diabetes_y = datasets.load_diabetes(return_X_y=True)\n",
    "\n",
    "# Use only one feature\n",
    "diabetes_X = diabetes_X[:, np.newaxis, 2]"
   ]
  },
  {
   "cell_type": "code",
   "execution_count": 5,
   "id": "249994b6",
   "metadata": {},
   "outputs": [],
   "source": [
    "# Split the data into training/testing sets\n",
    "diabetes_X_train = diabetes_X[:-20]\n",
    "diabetes_X_test = diabetes_X[-20:]\n",
    "\n",
    "# Split the targets into training/testing sets\n",
    "diabetes_y_train = diabetes_y[:-20]\n",
    "diabetes_y_test = diabetes_y[-20:]"
   ]
  },
  {
   "cell_type": "code",
   "execution_count": 6,
   "id": "6894d095",
   "metadata": {},
   "outputs": [
    {
     "data": {
      "text/plain": [
       "array([225.9732401 , 115.74763374, 163.27610621, 114.73638965,\n",
       "       120.80385422, 158.21988574, 236.08568105, 121.81509832,\n",
       "        99.56772822, 123.83758651, 204.73711411,  96.53399594,\n",
       "       154.17490936, 130.91629517,  83.3878227 , 171.36605897,\n",
       "       137.99500384, 137.99500384, 189.56845268,  84.3990668 ])"
      ]
     },
     "execution_count": 6,
     "metadata": {},
     "output_type": "execute_result"
    }
   ],
   "source": [
    "## Comparation of built model and sklearn's LinearRegression model\n",
    "# Create linear regression object\n",
    "regr = linear_model.LinearRegression()\n",
    "myReg = LinReg(lr=1.9, percent_diff=0.000001)\n",
    "\n",
    "# Train the model using the training sets\n",
    "regr.fit(diabetes_X_train, diabetes_y_train)\n",
    "myReg.fit(diabetes_X_train, diabetes_y_train)\n",
    "\n",
    "# Make predictions using the testing set\n",
    "diabetes_y_pred = regr.predict(diabetes_X_test)\n",
    "diabetes_y_pred"
   ]
  },
  {
   "cell_type": "code",
   "execution_count": 7,
   "id": "36fe94a7",
   "metadata": {},
   "outputs": [
    {
     "data": {
      "text/plain": [
       "array([225.86390645, 115.80427478, 163.26118018, 114.79455339,\n",
       "       120.85288174, 158.21257322, 235.96112037, 121.86260313,\n",
       "        99.64873252, 123.88204591, 204.65975723,  96.61956834,\n",
       "       154.17368766, 130.95009565,  83.49319025, 171.33895131,\n",
       "       138.01814539, 138.01814539, 189.51393636,  84.50291165])"
      ]
     },
     "execution_count": 7,
     "metadata": {},
     "output_type": "execute_result"
    }
   ],
   "source": [
    "my_pred = myReg.predict(diabetes_X_test)\n",
    "my_pred.flatten()"
   ]
  },
  {
   "cell_type": "code",
   "execution_count": 8,
   "id": "5874dfda",
   "metadata": {},
   "outputs": [
    {
     "name": "stdout",
     "output_type": "stream",
     "text": [
      "Coefficients:  [938.23786125]\n",
      "Built Module Coefficients:  [[936.82508848]]\n"
     ]
    }
   ],
   "source": [
    "# The coefficients\n",
    "print('Coefficients: ', regr.coef_)\n",
    "print('Built Module Coefficients: ', myReg.coefs)"
   ]
  },
  {
   "cell_type": "code",
   "execution_count": 9,
   "id": "543f83b4",
   "metadata": {},
   "outputs": [
    {
     "name": "stdout",
     "output_type": "stream",
     "text": [
      "Intercept:  152.91886182616167\n",
      "Built Module Intercept:  152.91953144999638\n"
     ]
    }
   ],
   "source": [
    "#The intercept\n",
    "print('Intercept: ', regr.intercept_)\n",
    "print('Built Module Intercept: ', myReg.const)"
   ]
  },
  {
   "cell_type": "code",
   "execution_count": 10,
   "id": "772b7d4f",
   "metadata": {},
   "outputs": [
    {
     "name": "stdout",
     "output_type": "stream",
     "text": [
      "Mean squared error: 2548.07\n",
      "Built Module Mean squared error: 2549.68\n"
     ]
    }
   ],
   "source": [
    "# The mean squared error\n",
    "print('Mean squared error: %.2f'\n",
    "      % mean_squared_error(diabetes_y_test, diabetes_y_pred))\n",
    "print('Built Module Mean squared error: %.2f'\n",
    "      % myReg.rmse(diabetes_y_test, my_pred.flatten(), unroot=True))"
   ]
  },
  {
   "cell_type": "code",
   "execution_count": 11,
   "id": "943b9acc",
   "metadata": {},
   "outputs": [
    {
     "name": "stdout",
     "output_type": "stream",
     "text": [
      "Mean absolute error: 41.23\n",
      "Built Module Mean absolute error: 41.26\n"
     ]
    }
   ],
   "source": [
    "# The mean absolute error\n",
    "print('Mean absolute error: %.2f'\n",
    "      % mean_absolute_error(diabetes_y_test, diabetes_y_pred))\n",
    "print('Built Module Mean absolute error: %.2f'\n",
    "      % myReg.mae(diabetes_y_test, my_pred.flatten()))"
   ]
  },
  {
   "cell_type": "code",
   "execution_count": 12,
   "id": "cd3dc9c5",
   "metadata": {},
   "outputs": [
    {
     "data": {
      "image/png": "[encoded data removed]",
      "text/plain": [
       "<Figure size 432x288 with 1 Axes>"
      ]
     },
     "metadata": {
      "needs_background": "light"
     },
     "output_type": "display_data"
    }
   ],
   "source": [
    "# Plot outputs\n",
    "plt.scatter(diabetes_X_test, diabetes_y_test,  color='black')\n",
    "plt.plot(diabetes_X_test, diabetes_y_pred, color='r', linewidth=3)\n",
    "\n",
    "plt.show()"
   ]
  },
  {
   "cell_type": "code",
   "execution_count": 13,
   "id": "cdb631ed",
   "metadata": {},
   "outputs": [
    {
     "data": {
      "image/png": "[encoded data removed]",
      "text/plain": [
       "<Figure size 432x288 with 1 Axes>"
      ]
     },
     "metadata": {
      "needs_background": "light"
     },
     "output_type": "display_data"
    }
   ],
   "source": [
    "# Built module plot\n",
    "plt.scatter(diabetes_X_test, diabetes_y_test,  color='black')\n",
    "plt.plot(diabetes_X_test, my_pred, color='b', linewidth=3)\n",
    "\n",
    "plt.show()"
   ]
  },
  {
   "cell_type": "code",
   "execution_count": 14,
   "id": "cf4e5eaa",
   "metadata": {},
   "outputs": [
    {
     "data": {
      "text/plain": [
       "Text(0, 0.5, 'Cost Value')"
      ]
     },
     "execution_count": 14,
     "metadata": {},
     "output_type": "execute_result"
    },
    {
     "data": {
      "image/png": "[encoded data removed]",
      "text/plain": [
       "<Figure size 1080x288 with 1 Axes>"
      ]
     },
     "metadata": {
      "needs_background": "light"
     },
     "output_type": "display_data"
    }
   ],
   "source": [
    "fig = plt.figure(figsize=(15,4))\n",
    "plt.plot([i for i in range(len(myReg.losses))], myReg.losses, 'b-')\n",
    "plt.xlabel('Epoch/Iterations')\n",
    "plt.ylabel('Cost Value')"
   ]
  },
  {
   "cell_type": "code",
   "execution_count": 15,
   "id": "f3b85556",
   "metadata": {},
   "outputs": [
    {
     "data": {
      "text/plain": [
       "1507"
      ]
     },
     "execution_count": 15,
     "metadata": {},
     "output_type": "execute_result"
    }
   ],
   "source": [
    "# Print epochs/iteration has done\n",
    "myReg.epochs"
   ]
  }
 ],
 "metadata": {
  "kernelspec": {
   "display_name": "Python 3",
   "language": "python",
   "name": "python3"
  },
  "language_info": {
   "codemirror_mode": {
    "name": "ipython",
    "version": 3
   },
   "file_extension": ".py",
   "mimetype": "text/x-python",
   "name": "python",
   "nbconvert_exporter": "python",
   "pygments_lexer": "ipython3",
   "version": "3.8.8"
  },
  "toc": {
   "base_numbering": 1,
   "nav_menu": {},
   "number_sections": true,
   "sideBar": true,
   "skip_h1_title": false,
   "title_cell": "Table of Contents",
   "title_sidebar": "Contents",
   "toc_cell": false,
   "toc_position": {},
   "toc_section_display": true,
   "toc_window_display": false
  }
 },
 "nbformat": 4,
 "nbformat_minor": 5
}
