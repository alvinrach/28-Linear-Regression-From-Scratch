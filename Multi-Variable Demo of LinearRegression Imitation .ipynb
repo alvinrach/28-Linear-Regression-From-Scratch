{
 "cells": [
  {
   "cell_type": "markdown",
   "id": "ebba3be6",
   "metadata": {},
   "source": [
    "**Here is the demo for the imitation model of the scikit-learn's LinearRegression**"
   ]
  },
  {
   "cell_type": "markdown",
   "id": "0b98bc17",
   "metadata": {},
   "source": [
    "**This notebook presents you multi-variable linear regression**"
   ]
  },
  {
   "cell_type": "code",
   "execution_count": 1,
   "id": "82d9fb05",
   "metadata": {},
   "outputs": [],
   "source": [
    "from LinearReg import LinReg"
   ]
  },
  {
   "cell_type": "code",
   "execution_count": 2,
   "id": "f5a4d962",
   "metadata": {},
   "outputs": [
    {
     "name": "stdout",
     "output_type": "stream",
     "text": [
      "Help on class LinReg in module LinearReg:\n",
      "\n",
      "class LinReg(builtins.object)\n",
      " |  LinReg(lr=0.01, percent_diff=0.1)\n",
      " |  \n",
      " |  Linear regression class to predict coefficient and constant of single or multi-variable data.\n",
      " |  Parameters\n",
      " |  ----------\n",
      " |  lr : float, default=0.01\n",
      " |      Set the learning rate.\n",
      " |  percent_diff : float, default=0.1\n",
      " |      Set the difference percent before the epoch stops.\n",
      " |  Attributes\n",
      " |  ----------\n",
      " |  coefs : array of shape (n_features, ) or (n_targets, n_features)\n",
      " |      Return slope of the Linear Regression model object.\n",
      " |  const : float\n",
      " |      Retrun intercept of the Linear Regression model object.\n",
      " |  losses : array of shape (min(X, y),)\n",
      " |      Return loss progress each epoch of the model object.\n",
      " |  epochs : int\n",
      " |      Return how many epoch has applied when fit of the model object.\n",
      " |  Examples\n",
      " |  --------\n",
      " |  Input:\n",
      " |      import numpy as np\n",
      " |      from LinearReg import LinReg\n",
      " |      X = np.array([[1, 1], [1, 2], [2, 2], [2, 3]])\n",
      " |      # y = 1 * x_0 + 2 * x_1 + 3\n",
      " |      y = np.dot(X, np.array([1, 2])) + 3\n",
      " |      reg = LinReg().fit(X, y)\n",
      " |      reg.coefs\n",
      " |  Output:\n",
      " |  array([[1.],\n",
      " |         [2.]])\n",
      " |         \n",
      " |  Input:\n",
      " |      reg.const\n",
      " |  Output:\n",
      " |  2.999999999989651\n",
      " |  \n",
      " |  Input:\n",
      " |      reg.epochs\n",
      " |  Output:\n",
      " |  35560\n",
      " |  \n",
      " |  Input:\n",
      " |      reg.predict(np.array([[3, 5], [4, 6]]))\n",
      " |  Output:\n",
      " |  array([[16.],\n",
      " |         [19.]])\n",
      " |         \n",
      " |  Input:\n",
      " |      reg.mae(test=np.array([[20], [25]]), pred=reg.predict(np.array([[3, 5], [4, 6]])).flatten())\n",
      " |  Output:\n",
      " |  array([6.5, 3.5])\n",
      " |  \n",
      " |  Input:\n",
      " |      reg.rmse(test=np.array([[20], [25]]), pred=reg.predict(np.array([[3, 5], [4, 6]])).flatten(), unroot=True)\n",
      " |  Output:\n",
      " |  array([48.5, 18.5])\n",
      " |  \n",
      " |  Methods defined here:\n",
      " |  \n",
      " |  __init__(self, lr=0.01, percent_diff=0.1)\n",
      " |      Initialize self.  See help(type(self)) for accurate signature.\n",
      " |  \n",
      " |  fit(self, X, y)\n",
      " |      Fit linear model.\n",
      " |      Parameters\n",
      " |      ----------\n",
      " |      X : {array-like, sparse matrix} of shape (n_samples, n_features)\n",
      " |          Input variables values.\n",
      " |      y : array-like of shape (n_samples,) or (n_samples, n_targets)\n",
      " |          Target variable values.\n",
      " |      Returns\n",
      " |      -------\n",
      " |      self : returns an instance of self.\n",
      " |  \n",
      " |  mae(self, test, pred)\n",
      " |      Mean absolute error regression loss of the linear model.\n",
      " |      Parameters\n",
      " |      ----------\n",
      " |      test : array-like of shape (n_samples,) or (n_samples, n_outputs)\n",
      " |          Correct target values.\n",
      " |      pred : array-like of shape (n_samples,) or (n_samples, n_outputs)\n",
      " |          Estimated target values.\n",
      " |      Returns\n",
      " |      -------\n",
      " |      float or ndarray of floats\n",
      " |          A non-negative floating point. The best value is 0.0.\n",
      " |  \n",
      " |  predict(self, X)\n",
      " |      Predict using the linear model.\n",
      " |      Parameters\n",
      " |      ----------\n",
      " |      X : array-like or sparse matrix, shape (n_samples, n_features)\n",
      " |          Data to predict.\n",
      " |      Returns\n",
      " |      -------\n",
      " |      array, shape (n_samples,)\n",
      " |          Returns predicted values.\n",
      " |  \n",
      " |  rmse(self, test, pred, unroot=False)\n",
      " |      Root Mean squared error regression loss of the linear model.\n",
      " |      Parameters\n",
      " |      ----------\n",
      " |      test : array-like of shape (n_samples,) or (n_samples, n_outputs)\n",
      " |          Correct target values.\n",
      " |      pred : array-like of shape (n_samples,) or (n_samples, n_outputs)\n",
      " |          Estimated target values.\n",
      " |      unroot : bool, default=False\n",
      " |          If True, prediction will return Mean Squared Error.\n",
      " |      Returns\n",
      " |      -------\n",
      " |      float or ndarray of floats\n",
      " |          A non-negative floating point. The best value is 0.0.\n",
      " |  \n",
      " |  ----------------------------------------------------------------------\n",
      " |  Data descriptors defined here:\n",
      " |  \n",
      " |  __dict__\n",
      " |      dictionary for instance variables (if defined)\n",
      " |  \n",
      " |  __weakref__\n",
      " |      list of weak references to the object (if defined)\n",
      "\n"
     ]
    }
   ],
   "source": [
    "help(LinReg)"
   ]
  },
  {
   "cell_type": "code",
   "execution_count": 3,
   "id": "3e6a74c9",
   "metadata": {},
   "outputs": [],
   "source": [
    "import matplotlib.pyplot as plt\n",
    "import numpy as np\n",
    "from sklearn import datasets, linear_model\n",
    "from sklearn.metrics import mean_squared_error, mean_absolute_error"
   ]
  },
  {
   "cell_type": "code",
   "execution_count": 4,
   "id": "df7d76da",
   "metadata": {},
   "outputs": [],
   "source": [
    "# Load the diabetes dataset\n",
    "diabetes_X, diabetes_y = datasets.load_diabetes(return_X_y=True)"
   ]
  },
  {
   "cell_type": "code",
   "execution_count": 5,
   "id": "5bfae184",
   "metadata": {},
   "outputs": [],
   "source": [
    "# Split the data into training/testing sets\n",
    "diabetes_X_train = diabetes_X[:-20]\n",
    "diabetes_X_test = diabetes_X[-20:]\n",
    "\n",
    "# Split the targets into training/testing sets\n",
    "diabetes_y_train = diabetes_y[:-20]\n",
    "diabetes_y_test = diabetes_y[-20:]"
   ]
  },
  {
   "cell_type": "code",
   "execution_count": 6,
   "id": "2fbf543c",
   "metadata": {},
   "outputs": [
    {
     "data": {
      "text/plain": [
       "array([197.61846908, 155.43979328, 172.88665147, 111.53537279,\n",
       "       164.80054784, 131.06954875, 259.12237761, 100.47935157,\n",
       "       117.0601052 , 124.30503555, 218.36632793,  61.19831284,\n",
       "       132.25046751, 120.3332925 ,  52.54458691, 194.03798088,\n",
       "       102.57139702, 123.56604987, 211.0346317 ,  52.60335674])"
      ]
     },
     "execution_count": 6,
     "metadata": {},
     "output_type": "execute_result"
    }
   ],
   "source": [
    "## Comparation of built model and sklearn's LinearRegression model\n",
    "# Create linear regression object\n",
    "regr = linear_model.LinearRegression()\n",
    "myReg = LinReg(lr=1.9, percent_diff=0.000001)\n",
    "\n",
    "# Train the model using the training sets\n",
    "regr.fit(diabetes_X_train, diabetes_y_train)\n",
    "myReg.fit(diabetes_X_train, diabetes_y_train)\n",
    "\n",
    "# Make predictions using the testing set\n",
    "diabetes_y_pred = regr.predict(diabetes_X_test)\n",
    "diabetes_y_pred"
   ]
  },
  {
   "cell_type": "code",
   "execution_count": 7,
   "id": "0a8fde5a",
   "metadata": {},
   "outputs": [
    {
     "data": {
      "text/plain": [
       "array([197.71683518, 154.66514566, 172.34817991, 111.03612911,\n",
       "       164.4999815 , 131.2638413 , 259.36564477, 100.51711649,\n",
       "       116.771567  , 123.8564291 , 218.43299059,  61.08483757,\n",
       "       132.76945203, 120.49610456,  52.72268454, 193.88743546,\n",
       "       102.7974455 , 123.97077099, 210.72808284,  51.50492009])"
      ]
     },
     "execution_count": 7,
     "metadata": {},
     "output_type": "execute_result"
    }
   ],
   "source": [
    "my_pred = myReg.predict(diabetes_X_test)\n",
    "my_pred.flatten()"
   ]
  },
  {
   "cell_type": "code",
   "execution_count": 8,
   "id": "ea151b5b",
   "metadata": {},
   "outputs": [
    {
     "name": "stdout",
     "output_type": "stream",
     "text": [
      "Coefficients:  [ 3.03499549e-01 -2.37639315e+02  5.10530605e+02  3.27736980e+02\n",
      " -8.14131709e+02  4.92814588e+02  1.02848452e+02  1.84606489e+02\n",
      "  7.43519617e+02  7.60951722e+01]\n",
      "Built Module Coefficients:  [   0.80721218 -237.17551144  511.83108059  327.35610848 -715.51807002\n",
      "  414.85847364   58.21395894  171.29178799  706.69839086   76.570645  ]\n"
     ]
    }
   ],
   "source": [
    "# The coefficients\n",
    "print('Coefficients: ', regr.coef_)\n",
    "print('Built Module Coefficients: ', myReg.coefs.flatten())"
   ]
  },
  {
   "cell_type": "code",
   "execution_count": 9,
   "id": "c4f79ea7",
   "metadata": {},
   "outputs": [
    {
     "name": "stdout",
     "output_type": "stream",
     "text": [
      "Intercept:  152.76430691633442\n",
      "Built Module Intercept:  152.75890395667582\n"
     ]
    }
   ],
   "source": [
    "#The intercept\n",
    "print('Intercept: ', regr.intercept_)\n",
    "print('Built Module Intercept: ', myReg.const)"
   ]
  },
  {
   "cell_type": "code",
   "execution_count": 10,
   "id": "9877be26",
   "metadata": {},
   "outputs": [
    {
     "name": "stdout",
     "output_type": "stream",
     "text": [
      "Mean squared error: 2004.57\n",
      "Built Module Mean squared error: 2001.95\n"
     ]
    }
   ],
   "source": [
    "# The mean squared error\n",
    "print('Mean squared error: %.2f'\n",
    "      % mean_squared_error(diabetes_y_test, diabetes_y_pred))\n",
    "print('Built Module Mean squared error: %.2f'\n",
    "      % myReg.rmse(diabetes_y_test, my_pred.flatten(), unroot=True))"
   ]
  },
  {
   "cell_type": "code",
   "execution_count": 11,
   "id": "e6c7a863",
   "metadata": {},
   "outputs": [
    {
     "name": "stdout",
     "output_type": "stream",
     "text": [
      "Mean absolute error: 36.61\n",
      "Built Module Mean absolute error: 36.62\n"
     ]
    }
   ],
   "source": [
    "# The mean absolute error\n",
    "print('Mean absolute error: %.2f'\n",
    "      % mean_absolute_error(diabetes_y_test, diabetes_y_pred))\n",
    "print('Built Module Mean absolute error: %.2f'\n",
    "      % myReg.mae(diabetes_y_test, my_pred.flatten()))"
   ]
  },
  {
   "cell_type": "code",
   "execution_count": 12,
   "id": "1cc72fc1",
   "metadata": {},
   "outputs": [
    {
     "data": {
      "text/plain": [
       "Text(0, 0.5, 'Cost Value')"
      ]
     },
     "execution_count": 12,
     "metadata": {},
     "output_type": "execute_result"
    },
    {
     "data": {
      "image/png": "[encoded data removed]",
      "text/plain": [
       "<Figure size 1080x288 with 1 Axes>"
      ]
     },
     "metadata": {
      "needs_background": "light"
     },
     "output_type": "display_data"
    }
   ],
   "source": [
    "fig = plt.figure(figsize=(15,4))\n",
    "plt.plot([i for i in range(len(myReg.losses))], myReg.losses, 'b-')\n",
    "plt.xlabel('Epoch/Iterations')\n",
    "plt.ylabel('Cost Value')"
   ]
  },
  {
   "cell_type": "code",
   "execution_count": 13,
   "id": "fecc6786",
   "metadata": {},
   "outputs": [
    {
     "data": {
      "text/plain": [
       "54725"
      ]
     },
     "execution_count": 13,
     "metadata": {},
     "output_type": "execute_result"
    }
   ],
   "source": [
    "# Print epochs/iteration has done\n",
    "myReg.epochs"
   ]
  },
  {
   "cell_type": "code",
   "execution_count": null,
   "id": "26e35241",
   "metadata": {},
   "outputs": [],
   "source": []
  }
 ],
 "metadata": {
  "kernelspec": {
   "display_name": "Python 3",
   "language": "python",
   "name": "python3"
  },
  "language_info": {
   "codemirror_mode": {
    "name": "ipython",
    "version": 3
   },
   "file_extension": ".py",
   "mimetype": "text/x-python",
   "name": "python",
   "nbconvert_exporter": "python",
   "pygments_lexer": "ipython3",
   "version": "3.8.8"
  },
  "toc": {
   "base_numbering": 1,
   "nav_menu": {},
   "number_sections": true,
   "sideBar": true,
   "skip_h1_title": false,
   "title_cell": "Table of Contents",
   "title_sidebar": "Contents",
   "toc_cell": false,
   "toc_position": {},
   "toc_section_display": true,
   "toc_window_display": false
  }
 },
 "nbformat": 4,
 "nbformat_minor": 5
}
